{
 "cells": [
  {
   "cell_type": "markdown",
   "id": "6720046a",
   "metadata": {},
   "source": [
    "# Estructura de dades\n",
    "\n",
    "Comencem a familiaritzar-nos amb les estructures de dades de Python https://www.w3schools.com/python/python_lists.asp\n",
    "\n",
    "## Exercici 1\n",
    "\n",
    "Crea una llista que agrupi els mesos de l’any en trimestres (1T: Gener, Febrer i Març, 2T: Abril, Maig, Juny...), és a dir, una llista amb 4 llistes dins."
   ]
  },
  {
   "cell_type": "code",
   "execution_count": 1,
   "id": "3ffa57fa",
   "metadata": {},
   "outputs": [],
   "source": [
    "trimestres = ((\"January\", \"February\", \"March\"), (\"April\", \"May\", \"June\"), (\"July\", \"Agoust\", \"September\"), (\"October\", \"November\", \"December\"))"
   ]
  },
  {
   "cell_type": "code",
   "execution_count": 2,
   "id": "8da85522",
   "metadata": {},
   "outputs": [
    {
     "data": {
      "text/plain": [
       "(('January', 'February', 'March'),\n",
       " ('April', 'May', 'June'),\n",
       " ('July', 'Agoust', 'September'),\n",
       " ('October', 'November', 'December'))"
      ]
     },
     "execution_count": 2,
     "metadata": {},
     "output_type": "execute_result"
    }
   ],
   "source": [
    "trimestres"
   ]
  },
  {
   "cell_type": "markdown",
   "id": "b03ba12d",
   "metadata": {},
   "source": [
    "## Exercici 2\n",
    "\n",
    "Crea un codi que et permeti accedir a:\n",
    "\n",
    "    El segon mes del primer trimestre\n",
    "    Els mesos del primer trimestre\n",
    "    Setembre i octubre\n"
   ]
  },
  {
   "cell_type": "code",
   "execution_count": 3,
   "id": "dbb7f473",
   "metadata": {},
   "outputs": [
    {
     "data": {
      "text/plain": [
       "'February'"
      ]
     },
     "execution_count": 3,
     "metadata": {},
     "output_type": "execute_result"
    }
   ],
   "source": [
    "trimestres[0][1]"
   ]
  },
  {
   "cell_type": "code",
   "execution_count": 4,
   "id": "1fce1bce",
   "metadata": {},
   "outputs": [
    {
     "data": {
      "text/plain": [
       "('January', 'February', 'March')"
      ]
     },
     "execution_count": 4,
     "metadata": {},
     "output_type": "execute_result"
    }
   ],
   "source": [
    "trimestres[0]"
   ]
  },
  {
   "cell_type": "code",
   "execution_count": 5,
   "id": "3e87ca60",
   "metadata": {},
   "outputs": [
    {
     "data": {
      "text/plain": [
       "('September', 'October')"
      ]
     },
     "execution_count": 5,
     "metadata": {},
     "output_type": "execute_result"
    }
   ],
   "source": [
    "septemberAndOctober = (trimestres[2][2], trimestres[3][0])\n",
    "septemberAndOctober"
   ]
  },
  {
   "cell_type": "markdown",
   "id": "3bc98e44",
   "metadata": {},
   "source": [
    "## Exercici 3\n",
    "\n",
    "Crea una llista amb nombres desordenats i respon a les següents preguntes:\n",
    "\n",
    "    Quants números hi ha?\n",
    "    Quantes vegades apareix el número 3\n",
    "    Quantes vegades apareixen els nombres 3 i 4?\n",
    "    Quin és el número més gran?\n",
    "    Quins són els 3 números més petits?\n",
    "    Quin és el rang d’aquesta llista?\n"
   ]
  },
  {
   "cell_type": "code",
   "execution_count": 6,
   "id": "04591a79",
   "metadata": {},
   "outputs": [],
   "source": [
    "# Llista\n",
    "\n",
    "numbers = (0, 2 ,50, 36 ,33, 21, 55, 50, 21, 3, 4, 4, 3)"
   ]
  },
  {
   "cell_type": "code",
   "execution_count": 7,
   "id": "4de5ef39",
   "metadata": {},
   "outputs": [
    {
     "data": {
      "text/plain": [
       "(0, 2, 50, 36, 33, 21, 55, 50, 21, 3, 4, 4, 3)"
      ]
     },
     "execution_count": 7,
     "metadata": {},
     "output_type": "execute_result"
    }
   ],
   "source": [
    "numbers"
   ]
  },
  {
   "cell_type": "code",
   "execution_count": 8,
   "id": "5d559f26",
   "metadata": {},
   "outputs": [
    {
     "data": {
      "text/plain": [
       "13"
      ]
     },
     "execution_count": 8,
     "metadata": {},
     "output_type": "execute_result"
    }
   ],
   "source": [
    "#Quants números hi ha?\n",
    "len(numbers)"
   ]
  },
  {
   "cell_type": "code",
   "execution_count": 9,
   "id": "64db7dab",
   "metadata": {},
   "outputs": [
    {
     "data": {
      "text/plain": [
       "2"
      ]
     },
     "execution_count": 9,
     "metadata": {},
     "output_type": "execute_result"
    }
   ],
   "source": [
    "#Quantes vegades apareix el número 3\n",
    "numbers.count(3)"
   ]
  },
  {
   "cell_type": "code",
   "execution_count": 10,
   "id": "254bca6b",
   "metadata": {},
   "outputs": [
    {
     "data": {
      "text/plain": [
       "4"
      ]
     },
     "execution_count": 10,
     "metadata": {},
     "output_type": "execute_result"
    }
   ],
   "source": [
    "#Quantes vegades apareixen els nombres 3 i 4?\n",
    "numbers.count(3)+numbers.count(4)"
   ]
  },
  {
   "cell_type": "code",
   "execution_count": 11,
   "id": "327c6064",
   "metadata": {},
   "outputs": [
    {
     "data": {
      "text/plain": [
       "55"
      ]
     },
     "execution_count": 11,
     "metadata": {},
     "output_type": "execute_result"
    }
   ],
   "source": [
    "#Quin és el número més gran?\n",
    "max(numbers)"
   ]
  },
  {
   "cell_type": "code",
   "execution_count": 13,
   "id": "d244b294",
   "metadata": {},
   "outputs": [
    {
     "name": "stdout",
     "output_type": "stream",
     "text": [
      "0\n",
      "2\n",
      "3\n"
     ]
    }
   ],
   "source": [
    "# Quins són els 3 números més petits?\n",
    "# Here I'm using this: https://www.geeksforgeeks.org/python-program-to-find-smallest-number-in-a-list/\n",
    "\n",
    "min1 = max(numbers)\n",
    "min2 = min1\n",
    "min3 = min1\n",
    "\n",
    "for i in range(len(numbers)):\n",
    "    if numbers[i] < min1:\n",
    "        min3 = min2\n",
    "        min2 = min1\n",
    "        min1 = numbers[i]\n",
    "    elif numbers[i] < min2:\n",
    "        min3 = min2\n",
    "        min2 = numbers[i]\n",
    "    elif numbers[i] < min3:\n",
    "        min3 = numbers[i]\n",
    "        \n",
    "print(min1)\n",
    "print(min2)\n",
    "print(min3)"
   ]
  },
  {
   "cell_type": "markdown",
   "id": "e28efb54",
   "metadata": {},
   "source": [
    "To do this one, I made 3 variables, I assign them the max value and I iterate through them. I had the problem that the minimum comes at first so I had to figure out a way that they stored (and change) other values. In this case I didn't want to sort the list. "
   ]
  },
  {
   "cell_type": "code",
   "execution_count": 18,
   "id": "1c8e40bd",
   "metadata": {},
   "outputs": [
    {
     "data": {
      "text/plain": [
       "55"
      ]
     },
     "execution_count": 18,
     "metadata": {},
     "output_type": "execute_result"
    }
   ],
   "source": [
    "#Quin és el rang d’aquesta llista?\n",
    "\n",
    "#If you are asking about the diffence between the max and minimum:\n",
    "max(numbers)-min(numbers)"
   ]
  },
  {
   "cell_type": "markdown",
   "id": "458be4eb",
   "metadata": {},
   "source": [
    "## Exercici 4\n",
    "\n",
    "Crea un diccionari de la següent forma i respon a les preguntes:\n",
    "\n",
    "compra = { \"Pomes\" : {\"Qty\": 5, \"€\": 0.42}, \"Peres\" : {\"Qty\": 3, \"€\": 0.66} }\n",
    "\n",
    "    Afegeix alguna fruita més\n",
    "    Quant han costat les peres en total?\n",
    "    Quantes fruites hem comprat en total?\n",
    "    Quina és la fruita més cara?\n"
   ]
  },
  {
   "cell_type": "code",
   "execution_count": 21,
   "id": "81e1f74b",
   "metadata": {},
   "outputs": [
    {
     "data": {
      "text/plain": [
       "{'Pomes': {'Qty': 5, '€': 0.42}, 'Peres': {'Qty': 3, '€': 0.66}}"
      ]
     },
     "execution_count": 21,
     "metadata": {},
     "output_type": "execute_result"
    }
   ],
   "source": [
    "compra = { \"Pomes\" : {\"Qty\": 5, \"€\": 0.42}, \"Peres\" : {\"Qty\": 3, \"€\": 0.66} }\n",
    "compra"
   ]
  },
  {
   "cell_type": "code",
   "execution_count": 24,
   "id": "41e86537",
   "metadata": {},
   "outputs": [
    {
     "data": {
      "text/plain": [
       "{'Pomes': {'Qty': 5, '€': 0.42},\n",
       " 'Peres': {'Qty': 3, '€': 0.66},\n",
       " 'Advocat': {'Qty': 2, '€': 1.5}}"
      ]
     },
     "execution_count": 24,
     "metadata": {},
     "output_type": "execute_result"
    }
   ],
   "source": [
    "# Afegeix alguna fruita més\n",
    "compra[\"Advocat\"]= {\"Qty\": 2, \"€\": 1.5}\n",
    "compra"
   ]
  },
  {
   "cell_type": "markdown",
   "id": "ba5df574",
   "metadata": {},
   "source": [
    "Recordar poner la coma decimal como punto o si no python no trata eso como un float y hará cosas raras"
   ]
  },
  {
   "cell_type": "code",
   "execution_count": 26,
   "id": "33abc55d",
   "metadata": {},
   "outputs": [
    {
     "data": {
      "text/plain": [
       "{'Pomes': {'Qty': 6, '€': 0.42},\n",
       " 'Peres': {'Qty': 3, '€': 0.66},\n",
       " 'Advocat': {'Qty': 2, '€': 1.5}}"
      ]
     },
     "execution_count": 26,
     "metadata": {},
     "output_type": "execute_result"
    }
   ],
   "source": [
    "compra[\"Pomes\"][\"Qty\"] += 1\n",
    "compra"
   ]
  },
  {
   "cell_type": "markdown",
   "id": "6fbd07af",
   "metadata": {},
   "source": [
    "Recordar que aquí no valdría el ++ o el -- de C o javascript"
   ]
  },
  {
   "cell_type": "code",
   "execution_count": 34,
   "id": "43a9ac91",
   "metadata": {},
   "outputs": [
    {
     "data": {
      "text/plain": [
       "10.5"
      ]
     },
     "execution_count": 34,
     "metadata": {},
     "output_type": "execute_result"
    }
   ],
   "source": [
    "#Quant han costat les peres en total?\n",
    "\n",
    "for fruita in compra:\n",
    "    cost += compra[fruita][\"Qty\"] * compra[fruita][\"€\"]\n",
    "    \n",
    "cost"
   ]
  },
  {
   "cell_type": "markdown",
   "id": "5de4b7b5",
   "metadata": {},
   "source": [
    "Recordar que es += y no =+"
   ]
  },
  {
   "cell_type": "code",
   "execution_count": 53,
   "id": "7bb513d1",
   "metadata": {},
   "outputs": [
    {
     "data": {
      "text/plain": [
       "'Advocat'"
      ]
     },
     "execution_count": 53,
     "metadata": {},
     "output_type": "execute_result"
    }
   ],
   "source": [
    "#Quina és la fruita més cara?\n",
    "fruitaMesCara = list(compra.keys())[0]\n",
    "\n",
    "for fruita in compra:\n",
    "    if compra[fruita][\"€\"] > compra[fruitaMesCara][\"€\"]:\n",
    "       fruitaMesCara = fruita\n",
    "fruitaMesCara\n",
    "    "
   ]
  },
  {
   "cell_type": "markdown",
   "id": "37f00812",
   "metadata": {},
   "source": [
    "Aquí he tenido un problema, para generalizar, suponiendo que no conozco las llaves del diccionario, quiero coger la primera para poder hacer el truco de ir yendo al máximo.  compra.keys()[0] no funciona porque da un error de que la lista de las llaves no es suscribible (subscriptable) porque es un dict_keys\n",
    "\n",
    "Al final utlizando esto sí me sale la solución. Había que hacer una conversión para que tragase https://stackoverflow.com/questions/30362391/how-do-you-find-the-first-key-in-a-dictionary "
   ]
  }
 ],
 "metadata": {
  "kernelspec": {
   "display_name": "Python 3",
   "language": "python",
   "name": "python3"
  },
  "language_info": {
   "codemirror_mode": {
    "name": "ipython",
    "version": 3
   },
   "file_extension": ".py",
   "mimetype": "text/x-python",
   "name": "python",
   "nbconvert_exporter": "python",
   "pygments_lexer": "ipython3",
   "version": "3.8.8"
  }
 },
 "nbformat": 4,
 "nbformat_minor": 5
}
