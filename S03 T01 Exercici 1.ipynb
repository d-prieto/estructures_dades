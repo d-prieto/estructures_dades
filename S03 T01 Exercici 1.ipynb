{
 "cells": [
  {
   "cell_type": "markdown",
   "id": "2e19d258",
   "metadata": {},
   "source": [
    "# Estructura de dades\n",
    "\n",
    "Comencem a familiaritzar-nos amb les estructures de dades de Python https://www.w3schools.com/python/python_lists.asp\n",
    "\n",
    "## Exercici 1\n",
    "\n",
    "Crea una llista que agrupi els mesos de l’any en trimestres (1T: Gener, Febrer i Març, 2T: Abril, Maig, Juny...), és a dir, una llista amb 4 llistes dins."
   ]
  },
  {
   "cell_type": "code",
   "execution_count": 1,
   "id": "395071ab",
   "metadata": {},
   "outputs": [
    {
     "data": {
      "text/plain": [
       "(('January', 'February', 'March'),\n",
       " ('April', 'May', 'June'),\n",
       " ('July', 'Agoust', 'September'),\n",
       " ('October', 'November', 'December'))"
      ]
     },
     "execution_count": 1,
     "metadata": {},
     "output_type": "execute_result"
    }
   ],
   "source": [
    "trimestres = ((\"January\", \"February\", \"March\"), (\"April\", \"May\", \"June\"), (\"July\", \"Agoust\", \"September\"), (\"October\", \"November\", \"December\"))\n",
    "trimestres"
   ]
  },
  {
   "cell_type": "code",
   "execution_count": null,
   "id": "f05fda71",
   "metadata": {},
   "outputs": [],
   "source": []
  }
 ],
 "metadata": {
  "kernelspec": {
   "display_name": "Python 3",
   "language": "python",
   "name": "python3"
  },
  "language_info": {
   "codemirror_mode": {
    "name": "ipython",
    "version": 3
   },
   "file_extension": ".py",
   "mimetype": "text/x-python",
   "name": "python",
   "nbconvert_exporter": "python",
   "pygments_lexer": "ipython3",
   "version": "3.8.8"
  }
 },
 "nbformat": 4,
 "nbformat_minor": 5
}
