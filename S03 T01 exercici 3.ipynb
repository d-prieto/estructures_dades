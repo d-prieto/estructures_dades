{
 "cells": [
  {
   "cell_type": "markdown",
   "id": "09335e16",
   "metadata": {},
   "source": [
    "## Exercici 3\n",
    "\n",
    "Crea una llista amb nombres desordenats i respon a les següents preguntes:\n",
    "\n",
    "    Quants números hi ha?\n",
    "    Quantes vegades apareix el número 3\n",
    "    Quantes vegades apareixen els nombres 3 i 4?\n",
    "    Quin és el número més gran?\n",
    "    Quins són els 3 números més petits?\n",
    "    Quin és el rang d’aquesta llista?"
   ]
  },
  {
   "cell_type": "code",
   "execution_count": 2,
   "id": "4bc84a91",
   "metadata": {},
   "outputs": [
    {
     "data": {
      "text/plain": [
       "(0, 2, 50, 36, 33, 21, 55, 50, 21, 3, 4, 4, 3)"
      ]
     },
     "execution_count": 2,
     "metadata": {},
     "output_type": "execute_result"
    }
   ],
   "source": [
    "# Llista\n",
    "\n",
    "numbers = (0, 2 ,50, 36 ,33, 21, 55, 50, 21, 3, 4, 4, 3)\n",
    "numbers"
   ]
  },
  {
   "cell_type": "code",
   "execution_count": 3,
   "id": "a74f7bad",
   "metadata": {},
   "outputs": [
    {
     "data": {
      "text/plain": [
       "13"
      ]
     },
     "execution_count": 3,
     "metadata": {},
     "output_type": "execute_result"
    }
   ],
   "source": [
    "#Quants números hi ha?\n",
    "len(numbers)"
   ]
  },
  {
   "cell_type": "code",
   "execution_count": 4,
   "id": "f1d9dc1e",
   "metadata": {},
   "outputs": [
    {
     "data": {
      "text/plain": [
       "2"
      ]
     },
     "execution_count": 4,
     "metadata": {},
     "output_type": "execute_result"
    }
   ],
   "source": [
    "#Quantes vegades apareix el número 3\n",
    "numbers.count(3)"
   ]
  },
  {
   "cell_type": "code",
   "execution_count": 5,
   "id": "11fdead3",
   "metadata": {},
   "outputs": [
    {
     "data": {
      "text/plain": [
       "4"
      ]
     },
     "execution_count": 5,
     "metadata": {},
     "output_type": "execute_result"
    }
   ],
   "source": [
    "#Quantes vegades apareixen els nombres 3 i 4?\n",
    "numbers.count(3)+numbers.count(4)"
   ]
  },
  {
   "cell_type": "code",
   "execution_count": 6,
   "id": "9948eb35",
   "metadata": {},
   "outputs": [
    {
     "data": {
      "text/plain": [
       "55"
      ]
     },
     "execution_count": 6,
     "metadata": {},
     "output_type": "execute_result"
    }
   ],
   "source": [
    "#Quin és el número més gran?\n",
    "max(numbers)"
   ]
  },
  {
   "cell_type": "code",
   "execution_count": 7,
   "id": "aa203e16",
   "metadata": {},
   "outputs": [
    {
     "name": "stdout",
     "output_type": "stream",
     "text": [
      "0\n",
      "2\n",
      "3\n"
     ]
    }
   ],
   "source": [
    "# Quins són els 3 números més petits?\n",
    "# Here I'm using this: https://www.geeksforgeeks.org/python-program-to-find-smallest-number-in-a-list/\n",
    "\n",
    "min1 = max(numbers)\n",
    "min2 = min1\n",
    "min3 = min1\n",
    "\n",
    "for i in range(len(numbers)):\n",
    "    if numbers[i] < min1:\n",
    "        min3 = min2\n",
    "        min2 = min1\n",
    "        min1 = numbers[i]\n",
    "    elif numbers[i] < min2:\n",
    "        min3 = min2\n",
    "        min2 = numbers[i]\n",
    "    elif numbers[i] < min3:\n",
    "        min3 = numbers[i]\n",
    "        \n",
    "print(min1)\n",
    "print(min2)\n",
    "print(min3)"
   ]
  },
  {
   "cell_type": "markdown",
   "id": "98c512c8",
   "metadata": {},
   "source": [
    "To do this one, I made 3 variables, I assign them the max value and I iterate through them. I had the problem that the minimum comes at first so I had to figure out a way that they stored (and change) other values. In this case I didn't want to sort the list.\n"
   ]
  },
  {
   "cell_type": "code",
   "execution_count": 8,
   "id": "5b682405",
   "metadata": {},
   "outputs": [
    {
     "data": {
      "text/plain": [
       "55"
      ]
     },
     "execution_count": 8,
     "metadata": {},
     "output_type": "execute_result"
    }
   ],
   "source": [
    "#Quin és el rang d’aquesta llista?\n",
    "\n",
    "#If you are asking about the diffence between the max and minimum:\n",
    "max(numbers)-min(numbers)"
   ]
  }
 ],
 "metadata": {
  "kernelspec": {
   "display_name": "Python 3",
   "language": "python",
   "name": "python3"
  },
  "language_info": {
   "codemirror_mode": {
    "name": "ipython",
    "version": 3
   },
   "file_extension": ".py",
   "mimetype": "text/x-python",
   "name": "python",
   "nbconvert_exporter": "python",
   "pygments_lexer": "ipython3",
   "version": "3.8.8"
  }
 },
 "nbformat": 4,
 "nbformat_minor": 5
}
